{
 "metadata": {
  "language_info": {
   "codemirror_mode": {
    "name": "ipython",
    "version": 3
   },
   "file_extension": ".py",
   "mimetype": "text/x-python",
   "name": "python",
   "nbconvert_exporter": "python",
   "pygments_lexer": "ipython3",
   "version": 3
  },
  "orig_nbformat": 2
 },
 "nbformat": 4,
 "nbformat_minor": 2,
 "cells": [
  {
   "source": [
    "# Artigo utilizado como base para a solução\n",
    "https://research.ijcaonline.org/volume58/number17/pxc3883886.pdf\n",
    "\n",
    "# Requisitos da atividade\n",
    "1) implementar o gerador dos labirintos;\n",
    "\n",
    "2) implementar o algoritmo genético (AG) com estruturas de dados e parâmetros necessários;\n",
    "\n",
    "3) executar o AG num labirinto 10x10;\n",
    "\n",
    "4) traçar um gráfico da evolução do AG (gerações versus fitness da população) usando a biblioteca matplotlib;\n",
    "\n",
    "5) desenhar uma figura do labirinto e da melhor solução encontrada (pode ser em modo texto);\n",
    "\n",
    "6) (Bonus) Variar os parâmetros do AG e comentar o efeito sobre a velocidade de convergência da solução.\n",
    "\n",
    "### Grupo\n",
    "* Alexandre Ribeiro\n",
    "* Flávio Farias\n",
    "* Henrique Arriel"
   ],
   "cell_type": "markdown",
   "metadata": {}
  },
  {
   "source": [
    "# Imports e constantes"
   ],
   "cell_type": "markdown",
   "metadata": {}
  },
  {
   "cell_type": "code",
   "execution_count": null,
   "metadata": {},
   "outputs": [],
   "source": [
    "import random\n",
    "from random import randint, choice\n",
    "import matplotlib.pyplot as plt\n",
    "import numpy as np\n",
    "from IPython.display import clear_output\n",
    "from time import sleep\n",
    "\n",
    "SEED = 1123581321 #seed utilizada para a randomização ser igual em todas execuções do notebook. A modificação da seed pode trazer efeitos colaterais para algumas análises.\n",
    "rep = { \"cross\": '#', 'vwall': '#', 'hwall': '#', 'step': '\\033[95m+\\033[00m', 'start': '\\033[92mS\\033[00m', 'finish': '\\033[91mF\\033[00m' }"
   ]
  },
  {
   "source": [
    "# Gerador de labirintos (A-Mazer)"
   ],
   "cell_type": "markdown",
   "metadata": {}
  },
  {
   "source": [
    "# Algoritmo genético"
   ],
   "cell_type": "markdown",
   "metadata": {}
  },
  {
   "source": [
    "# Execução do algoritmo genético em um labirinto 10x10"
   ],
   "cell_type": "markdown",
   "metadata": {}
  },
  {
   "source": [
    "# Gráfico com evolução do algoritmo genético (gerações x fitness)"
   ],
   "cell_type": "markdown",
   "metadata": {}
  },
  {
   "source": [
    "# Figura do labirinto e melhor solução encontrada"
   ],
   "cell_type": "markdown",
   "metadata": {}
  },
  {
   "source": [
    "# Variação dos parâmetros do algoritmo genético"
   ],
   "cell_type": "markdown",
   "metadata": {}
  },
  {
   "source": [
    "Para efeitos de comparação das variações de parâmetros do algoritmo genético, reiniciaremos a seed utilzada para gerarmos os mesmos labirintos para os diferentes parâmetros."
   ],
   "cell_type": "markdown",
   "metadata": {}
  },
  {
   "source": [
    "Parâmetros base\n",
    "\n",
    "---\n",
    "Taxa de crossover == **0.8**\n",
    "\n",
    "Taxa de mutação == **0.1**\n",
    "\n",
    "Tamanho da população == **100**\n",
    "\n",
    "Geração máxima para parada == **500**\n",
    "\n",
    "Esses parâmetros foram obtidos através do artigo e foram utilizados nas seções anteriores.\n",
    "\n",
    "Para termos uma média de gerações de convergência do AG, rodamos o algoritmo randômicamente por 50 vezes. "
   ],
   "cell_type": "markdown",
   "metadata": {}
  },
  {
   "cell_type": "code",
   "execution_count": null,
   "metadata": {},
   "outputs": [],
   "source": [
    "random.seed(SEED)"
   ]
  },
  {
   "cell_type": "code",
   "execution_count": null,
   "metadata": {},
   "outputs": [],
   "source": [
    "generation_list = []\n",
    "for i in range(50):\n",
    "  _, generation, _, _, _, _ = run(maze_size=10, population_size=100, crossover_rate=0.8, mutation_rate= 0.1, max_generation=500,n_generation_growth= 5)\n",
    "  generation_list.append(generation)\n",
    "\n",
    "print(\"Média de gerações para convergência do Algoritmo Genético: \", np.mean(np.array(generation_list)))"
   ]
  },
  {
   "source": [
    "Parâmetros variados\n",
    "\n",
    "----\n",
    "\n",
    "Taxa de crossover == ~0.8~ => **0.6**\n",
    "\n",
    "Taxa de mutação == ~0.1~ => **0.3**\n",
    "\n",
    "Tamanho da população == ~100~ => **80**\n",
    "\n",
    "Geração máxima para parada == ~500~ => **1500**\n",
    "\n",
    "Seguindo a lógica acima, rodamos o algoritmo com os parâmetros variados mais 50 vezes. "
   ],
   "cell_type": "markdown",
   "metadata": {}
  },
  {
   "cell_type": "code",
   "execution_count": null,
   "metadata": {},
   "outputs": [],
   "source": [
    "random.seed(SEED)"
   ]
  },
  {
   "cell_type": "code",
   "execution_count": null,
   "metadata": {},
   "outputs": [],
   "source": [
    "generation_list = []\n",
    "for i in range(50):\n",
    "  chromosome, generation, fitness_values, maze, _, _ = run(maze_size=10, population_size=80, crossover_rate=0.6, mutation_rate= 0.3, max_generation=1500,n_generation_growth= 5)\n",
    "  generation_list.append(generation)\n",
    "\n",
    "print(\"Média de gerações para convergência do Algoritmo Genético: \", np.mean(np.array(generation_list)))"
   ]
  },
  {
   "source": [
    "Aparentemente, a média de gerações para a convergência do Algoritmo Genético com os parâmetros variados tendeu a diminuir.\n",
    "\n",
    "O gráfico a seguir é referente à ultima execução do algoritmo.\n",
    "\n"
   ],
   "cell_type": "markdown",
   "metadata": {}
  },
  {
   "cell_type": "code",
   "execution_count": null,
   "metadata": {},
   "outputs": [],
   "source": [
    "show_graph(generation, fitness_values)"
   ]
  },
  {
   "source": [
    "#### Utilizando outra função de fitness (Distância de Manhattan)"
   ],
   "cell_type": "markdown",
   "metadata": {}
  },
  {
   "source": [
    "No exemplo a seguir utilizaremos a função fitness com Distância de Manhattan ao invés da Distância Euclideana."
   ],
   "cell_type": "markdown",
   "metadata": {}
  },
  {
   "cell_type": "code",
   "execution_count": null,
   "metadata": {},
   "outputs": [],
   "source": [
    "random.seed(SEED)"
   ]
  },
  {
   "cell_type": "code",
   "execution_count": null,
   "metadata": {},
   "outputs": [],
   "source": [
    "generation_list = []\n",
    "for i in range(50):\n",
    "  chromosome, generation, fitness_values, maze, _, _ = run(maze_size=10, population_size=100, crossover_rate=0.8, mutation_rate= 0.1, max_generation=500,n_generation_growth= 5, fitness_function= \"MANHATTAN\")\n",
    "  generation_list.append(generation)\n",
    "\n",
    "print(\"Média de gerações para convergência do Algoritmo Genético: \", np.mean(np.array(generation_list)))"
   ]
  },
  {
   "source": [
    "Ao alterar a função fitness para utilizar a Distância de Manhattan, notamos uma piora na convergência do algoritmo genético com os mesmos parâmetros base (artigo).\n",
    "\n",
    "O gráfico a seguir é referente à ultima execução do algoritmo."
   ],
   "cell_type": "markdown",
   "metadata": {}
  },
  {
   "cell_type": "code",
   "execution_count": null,
   "metadata": {},
   "outputs": [],
   "source": [
    "show_graph(generation, fitness_values)"
   ]
  },
  {
   "source": [
    "\n",
    "#### Efeito da variação dos parâmetros na velocidade de convergência da solução\n"
   ],
   "cell_type": "markdown",
   "metadata": {}
  },
  {
   "source": [
    "O algoritmo genético com a variação dos parâmetros e função fitness de Distância Euclidiana convergiu mais rapidamente que o algoritmo com os parâmetros base.\n",
    "\n",
    "Enquanto o AG com os parâmetros base (artigo) e Distância Euclidiana como função fitness encontrou a solução em uma média de **50.74** gerações, o AG com parâmetros variados sugeridos por todos os integrantes do grupo convergiu em uma média de **45.50** gerações.\n",
    "\n",
    "Em uma variação da função fitness para utilizar a Distância de Manhattan, o AG convergiu em uma média de **65.5** gerações.\n",
    "\n"
   ],
   "cell_type": "markdown",
   "metadata": {}
  }
 ]
}