{
 "metadata": {
  "language_info": {
   "codemirror_mode": {
    "name": "ipython",
    "version": 3
   },
   "file_extension": ".py",
   "mimetype": "text/x-python",
   "name": "python",
   "nbconvert_exporter": "python",
   "pygments_lexer": "ipython3",
   "version": 3
  },
  "orig_nbformat": 2
 },
 "nbformat": 4,
 "nbformat_minor": 2,
 "cells": [
  {
   "source": [
    "# Artigo utilizado como base para a solução\n",
    "https://research.ijcaonline.org/volume58/number17/pxc3883886.pdf\n",
    "\n",
    "# Requisitos da atividade\n",
    "1) implementar o gerador dos labirintos;\n",
    "\n",
    "2) implementar o algoritmo genético (AG) com estruturas de dados e parâmetros necessários;\n",
    "\n",
    "3) executar o AG num labirinto 10x10;\n",
    "\n",
    "4) traçar um gráfico da evolução do AG (gerações versus fitness da população) usando a biblioteca matplotlib;\n",
    "\n",
    "5) desenhar uma figura do labirinto e da melhor solução encontrada (pode ser em modo texto);\n",
    "\n",
    "6) (Bonus) Variar os parâmetros do AG e comentar o efeito sobre a velocidade de convergência da solução.\n",
    "\n",
    "### Grupo\n",
    "* Alexandre Ribeiro\n",
    "* Flávio Farias\n",
    "* Henrique Arriel"
   ],
   "cell_type": "markdown",
   "metadata": {}
  },
  {
   "source": [
    "# Imports e constantes"
   ],
   "cell_type": "markdown",
   "metadata": {}
  },
  {
   "cell_type": "code",
   "execution_count": null,
   "metadata": {},
   "outputs": [],
   "source": [
    "import random\n",
    "from random import randint, choice\n",
    "import matplotlib.pyplot as plt\n",
    "import numpy as np\n",
    "from IPython.display import clear_output\n",
    "from time import sleep\n",
    "\n",
    "SEED = 1123581321 #seed utilizada para a randomização ser igual em todas execuções do notebook. A modificação da seed pode trazer efeitos colaterais para algumas análises.\n",
    "rep = { \"cross\": '#', 'vwall': '#', 'hwall': '#', 'step': '\\033[95m+\\033[00m', 'start': '\\033[92mS\\033[00m', 'finish': '\\033[91mF\\033[00m' }"
   ]
  },
  {
   "source": [
    "# Gerador de labirintos (A-Mazer)"
   ],
   "cell_type": "markdown",
   "metadata": {}
  },
  {
   "source": [
    "# Algoritmo genético"
   ],
   "cell_type": "markdown",
   "metadata": {}
  },
  {
   "source": [
    "# Execução do algoritmo genético em um labirinto 10x10"
   ],
   "cell_type": "markdown",
   "metadata": {}
  },
  {
   "source": [
    "# Gráfico com evolução do algoritmo genético (gerações x fitness)"
   ],
   "cell_type": "markdown",
   "metadata": {}
  },
  {
   "source": [
    "# Figura do labirinto e melhor solução encontrada"
   ],
   "cell_type": "markdown",
   "metadata": {}
  },
  {
   "source": [
    "# Variação dos parâmetros do algoritmo genético"
   ],
   "cell_type": "markdown",
   "metadata": {}
  }
 ]
}