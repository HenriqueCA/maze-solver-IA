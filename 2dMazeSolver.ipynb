{
 "metadata": {
  "language_info": {
   "codemirror_mode": {
    "name": "ipython",
    "version": 3
   },
   "file_extension": ".py",
   "mimetype": "text/x-python",
   "name": "python",
   "nbconvert_exporter": "python",
   "pygments_lexer": "ipython3",
   "version": 3
  },
  "orig_nbformat": 2
 },
 "nbformat": 4,
 "nbformat_minor": 2,
 "cells": [
  {
   "source": [
    "# Artigo utilizado como base para a solução\n",
    "https://research.ijcaonline.org/volume58/number17/pxc3883886.pdf\n",
    "\n",
    "# Requisitos da atividade\n",
    "1) implementar o gerador dos labirintos;\n",
    "\n",
    "2) implementar o algoritmo genético (AG) com estruturas de dados e parâmetros necessários;\n",
    "\n",
    "3) executar o AG num labirinto 10x10;\n",
    "\n",
    "4) traçar um gráfico da evolução do AG (gerações versus fitness da população) usando a biblioteca matplotlib;\n",
    "\n",
    "5) desenhar uma figura do labirinto e da melhor solução encontrada (pode ser em modo texto);\n",
    "\n",
    "6) (Bonus) Variar os parâmetros do AG e comentar o efeito sobre a velocidade de convergência da solução.\n",
    "\n",
    "### Grupo\n",
    "* Alexandre Ribeiro\n",
    "* Flávio Farias\n",
    "* Henrique Arriel"
   ],
   "cell_type": "markdown",
   "metadata": {}
  },
  {
   "source": [
    "# Imports e constantes"
   ],
   "cell_type": "markdown",
   "metadata": {}
  },
  {
   "cell_type": "code",
   "execution_count": null,
   "metadata": {},
   "outputs": [],
   "source": [
    "import random\n",
    "from random import randint, choice\n",
    "import matplotlib.pyplot as plt\n",
    "import numpy as np\n",
    "from IPython.display import clear_output\n",
    "from time import sleep\n",
    "\n",
    "SEED = 1123581321 #seed utilizada para a randomização ser igual em todas execuções do notebook. A modificação da seed pode trazer efeitos colaterais para algumas análises.\n",
    "rep = { \"cross\": '#', 'vwall': '#', 'hwall': '#', 'step': '\\033[95m+\\033[00m', 'start': '\\033[92mS\\033[00m', 'finish': '\\033[91mF\\033[00m' }"
   ]
  },
  {
   "source": [
    "# Gerador de labirintos (A-Mazer)"
   ],
   "cell_type": "markdown",
   "metadata": {}
  },
  {
   "source": [
    "#### Gerar labirinto"
   ],
   "cell_type": "markdown",
   "metadata": {}
  },
  {
   "cell_type": "code",
   "execution_count": null,
   "metadata": {},
   "outputs": [],
   "source": [
    "def maze_maker(n):\n",
    "  maze = [[[0,0,0,0,0] for line in range(n)] for column in range(n)]\n",
    "  doors = ['LEFT', 'RIGHT', 'TOP', 'BOTTOM']\n",
    "  for row in range(1,n-1):\n",
    "    for col in range(1,n-1):\n",
    "      for door in doors:\n",
    "        opened_door = randint(0,1)\n",
    "        if(opened_door):\n",
    "          open_door(maze, (row, col), door)\n",
    "\n",
    "  return maze\n",
    "\n",
    "def validate_cell(line,column, maze_size):\n",
    "  return ((0 <= line < maze_size) and (0 <= column < maze_size))\n",
    "\n",
    "def start_finish_cells(maze_size):\n",
    "  start = randint(0,maze_size-1)\n",
    "  finish = randint(0,maze_size-1)\n",
    "  return start, finish\n",
    "\n",
    "def open_door(maze, coordinates, door):\n",
    "  x, y = coordinates\n",
    "  if (door == \"LEFT\"):\n",
    "    if(validate_cell(x, y, len(maze)) and validate_cell(x, y-1, len(maze))):\n",
    "      maze[x][y][0], maze[x][y-1][1] = 1, 1\n",
    "  elif (door == \"RIGHT\"):\n",
    "    if(validate_cell(x, y, len(maze)) and validate_cell(x, y+1, len(maze))):\n",
    "      maze[x][y][1], maze[x][y+1][0] = 1, 1\n",
    "  elif (door == \"TOP\"): \n",
    "    if(validate_cell(x, y, len(maze)) and validate_cell(x-1, y, len(maze))):\n",
    "      maze[x][y][2], maze[x-1][y][3] = 1, 1\n",
    "  elif (door == \"BOTTOM\"): \n",
    "    if(validate_cell(x, y, len(maze)) and validate_cell(x+1, y, len(maze))):\n",
    "      maze[x][y][3], maze[x+1][y][2] = 1, 1"
   ]
  },
  {
   "source": [
    "#### Flood fill"
   ],
   "cell_type": "markdown",
   "metadata": {}
  },
  {
   "cell_type": "code",
   "execution_count": null,
   "metadata": {},
   "outputs": [],
   "source": [
    "def flood_fill(maze, row, col, label):\n",
    "  if(maze[row][col][4] == label):\n",
    "    return\n",
    "  else:\n",
    "    maze[row][col][4] = label\n",
    "    #LEFT\n",
    "    if(maze[row][col][0] == 1): flood_fill(maze, row,col-1, label)\n",
    "    #RIGHT\n",
    "    if(maze[row][col][1] == 1): flood_fill(maze, row, col+1, label)\n",
    "    #TOP\n",
    "    if(maze[row][col][2] == 1): flood_fill(maze, row-1, col, label)\n",
    "    #BOTTOM\n",
    "    if(maze[row][col][3] == 1): flood_fill(maze, row+1, col, label)"
   ]
  },
  {
   "source": [
    "# Algoritmo genético"
   ],
   "cell_type": "markdown",
   "metadata": {}
  },
  {
   "source": [
    "# Execução do algoritmo genético em um labirinto 10x10"
   ],
   "cell_type": "markdown",
   "metadata": {}
  },
  {
   "source": [
    "# Gráfico com evolução do algoritmo genético (gerações x fitness)"
   ],
   "cell_type": "markdown",
   "metadata": {}
  },
  {
   "source": [
    "# Figura do labirinto e melhor solução encontrada"
   ],
   "cell_type": "markdown",
   "metadata": {}
  },
  {
   "source": [
    "# Variação dos parâmetros do algoritmo genético"
   ],
   "cell_type": "markdown",
   "metadata": {}
  },
  {
   "source": [
    "Para efeitos de comparação das variações de parâmetros do algoritmo genético, reiniciaremos a seed utilzada para gerarmos os mesmos labirintos para os diferentes parâmetros."
   ],
   "cell_type": "markdown",
   "metadata": {}
  },
  {
   "source": [
    "Parâmetros base\n",
    "\n",
    "---\n",
    "Taxa de crossover == **0.8**\n",
    "\n",
    "Taxa de mutação == **0.1**\n",
    "\n",
    "Tamanho da população == **100**\n",
    "\n",
    "Geração máxima para parada == **500**\n",
    "\n",
    "Esses parâmetros foram obtidos através do artigo e foram utilizados nas seções anteriores.\n",
    "\n",
    "Para termos uma média de gerações de convergência do AG, rodamos o algoritmo randômicamente por 50 vezes. "
   ],
   "cell_type": "markdown",
   "metadata": {}
  },
  {
   "cell_type": "code",
   "execution_count": null,
   "metadata": {},
   "outputs": [],
   "source": [
    "random.seed(SEED)"
   ]
  },
  {
   "cell_type": "code",
   "execution_count": null,
   "metadata": {},
   "outputs": [],
   "source": [
    "generation_list = []\n",
    "for i in range(50):\n",
    "  _, generation, _, _, _, _ = run(maze_size=10, population_size=100, crossover_rate=0.8, mutation_rate= 0.1, max_generation=500,n_generation_growth= 5)\n",
    "  generation_list.append(generation)\n",
    "\n",
    "print(\"Média de gerações para convergência do Algoritmo Genético: \", np.mean(np.array(generation_list)))"
   ]
  }
 ]
}