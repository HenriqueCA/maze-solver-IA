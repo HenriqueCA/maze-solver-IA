{
 "metadata": {
  "language_info": {
   "codemirror_mode": {
    "name": "ipython",
    "version": 3
   },
   "file_extension": ".py",
   "mimetype": "text/x-python",
   "name": "python",
   "nbconvert_exporter": "python",
   "pygments_lexer": "ipython3",
   "version": 3
  },
  "orig_nbformat": 2
 },
 "nbformat": 4,
 "nbformat_minor": 2,
 "cells": [
  {
   "source": [
    "# Artigo utilizado como base para a solução\n",
    "https://research.ijcaonline.org/volume58/number17/pxc3883886.pdf\n",
    "\n",
    "# Requisitos da atividade\n",
    "1) implementar o gerador dos labirintos;\n",
    "\n",
    "2) implementar o algoritmo genético (AG) com estruturas de dados e parâmetros necessários;\n",
    "\n",
    "3) executar o AG num labirinto 10x10;\n",
    "\n",
    "4) traçar um gráfico da evolução do AG (gerações versus fitness da população) usando a biblioteca matplotlib;\n",
    "\n",
    "5) desenhar uma figura do labirinto e da melhor solução encontrada (pode ser em modo texto);\n",
    "\n",
    "6) (Bonus) Variar os parâmetros do AG e comentar o efeito sobre a velocidade de convergência da solução.\n",
    "\n",
    "### Grupo\n",
    "* Alexandre Ribeiro\n",
    "* Flávio Farias\n",
    "* Henrique Arriel"
   ],
   "cell_type": "markdown",
   "metadata": {}
  },
  {
   "source": [
    "# Imports e constantes"
   ],
   "cell_type": "markdown",
   "metadata": {}
  },
  {
   "cell_type": "code",
   "execution_count": null,
   "metadata": {},
   "outputs": [],
   "source": [
    "import random\n",
    "from random import randint, choice\n",
    "import matplotlib.pyplot as plt\n",
    "import numpy as np\n",
    "from IPython.display import clear_output\n",
    "from time import sleep\n",
    "\n",
    "SEED = 1123581321 #seed utilizada para a randomização ser igual em todas execuções do notebook. A modificação da seed pode trazer efeitos colaterais para algumas análises.\n",
    "rep = { \"cross\": '#', 'vwall': '#', 'hwall': '#', 'step': '\\033[95m+\\033[00m', 'start': '\\033[92mS\\033[00m', 'finish': '\\033[91mF\\033[00m' }"
   ]
  },
  {
   "source": [
    "# Gerador de labirintos (A-Mazer)"
   ],
   "cell_type": "markdown",
   "metadata": {}
  },
  {
   "source": [
    "#### Gerar labirinto"
   ],
   "cell_type": "markdown",
   "metadata": {}
  },
  {
   "cell_type": "code",
   "execution_count": null,
   "metadata": {},
   "outputs": [],
   "source": [
    "  def maze_maker(n):\n",
    "    maze = [[[0,0,0,0,0] for line in range(n)] for column in range(n)]\n",
    "    doors = ['LEFT', 'RIGHT', 'TOP', 'BOTTOM']\n",
    "    for row in range(1,n-1):\n",
    "      for col in range(1,n-1):\n",
    "        for door in doors:\n",
    "          opened_door = randint(0,1)\n",
    "          if(opened_door):\n",
    "            open_door(maze, (row, col), door)\n",
    "\n",
    "    return maze\n",
    "\n",
    "  def validate_cell(line,column, maze_size):\n",
    "    return ((0 <= line < maze_size) and (0 <= column < maze_size))\n",
    "\n",
    "  def start_finish_cells(maze_size):\n",
    "    start = randint(0,maze_size-1)\n",
    "    finish = randint(0,maze_size-1)\n",
    "    return start, finish\n",
    "\n",
    "  def open_door(maze, coordinates, door):\n",
    "    x, y = coordinates\n",
    "    if (door == \"LEFT\"):\n",
    "      if(validate_cell(x, y, len(maze)) and validate_cell(x, y-1, len(maze))):\n",
    "        maze[x][y][0], maze[x][y-1][1] = 1, 1\n",
    "    elif (door == \"RIGHT\"):\n",
    "      if(validate_cell(x, y, len(maze)) and validate_cell(x, y+1, len(maze))):\n",
    "        maze[x][y][1], maze[x][y+1][0] = 1, 1\n",
    "    elif (door == \"TOP\"): \n",
    "      if(validate_cell(x, y, len(maze)) and validate_cell(x-1, y, len(maze))):\n",
    "        maze[x][y][2], maze[x-1][y][3] = 1, 1\n",
    "    elif (door == \"BOTTOM\"): \n",
    "      if(validate_cell(x, y, len(maze)) and validate_cell(x+1, y, len(maze))):\n",
    "        maze[x][y][3], maze[x+1][y][2] = 1, 1"
   ]
  },
  {
   "source": [
    "#### Flood fill"
   ],
   "cell_type": "markdown",
   "metadata": {}
  },
  {
   "cell_type": "code",
   "execution_count": null,
   "metadata": {},
   "outputs": [],
   "source": [
    "def flood_fill(maze, row, col, label):\n",
    "  if(maze[row][col][4] == label):\n",
    "    return\n",
    "  else:\n",
    "    maze[row][col][4] = label\n",
    "    #LEFT\n",
    "    if(maze[row][col][0] == 1): flood_fill(maze, row,col-1, label)\n",
    "    #RIGHT\n",
    "    if(maze[row][col][1] == 1): flood_fill(maze, row, col+1, label)\n",
    "    #TOP\n",
    "    if(maze[row][col][2] == 1): flood_fill(maze, row-1, col, label)\n",
    "    #BOTTOM\n",
    "    if(maze[row][col][3] == 1): flood_fill(maze, row+1, col, label)"
   ]
  },
  {
   "source": [
    "#### Junção de paredes adjacentes"
   ],
   "cell_type": "markdown",
   "metadata": {}
  },
  {
   "cell_type": "code",
   "execution_count": null,
   "metadata": {},
   "outputs": [],
   "source": [
    "#this function considers current and parent as neighbors\n",
    "def came_from(current, parent):\n",
    "  coord_to_text = { (0, 1): 'LEFT', (0, -1): 'RIGHT', (1, 0): 'TOP', (-1, 0): 'BOTTOM' }\n",
    "  x, y = current\n",
    "  px, py = parent\n",
    "  from_ = (x-px, y-py)\n",
    "  \n",
    "  return coord_to_text[from_]\n",
    "\n",
    "def text_to_step(text): \n",
    "  steps = {'LEFT': 0, 'RIGHT': 1, 'TOP': 2, 'BOTTOM': 3}\n",
    "  return steps[text]\n",
    "\n",
    "def step_to_text(step):\n",
    "  texts = {0: 'LEFT', 1: 'RIGHT', 2: 'TOP', 3: 'BOTTOM'}\n",
    "  return texts[step]\n",
    "\n",
    "#this function doesnt consider whether door is open\n",
    "def get_neighbors(maze, node):\n",
    "  x, y = node\n",
    "  doors = [0, 1, 2, 3]\n",
    "  door_to_coord = { 0: (0, -1), 1: (0, 1), 2: (-1, 0), 3: (1, 0) }\n",
    "  neighbors = []\n",
    "  for door in doors:\n",
    "      neighbor = (x + door_to_coord[door][0], y + door_to_coord[door][1])\n",
    "      if (validate_cell(neighbor[0], neighbor[1], len(maze))):\n",
    "        neighbors.append(neighbor)\n",
    "  return neighbors\n",
    "\n",
    "def merge_adjacent(maze, row, col):\n",
    "  stack = []\n",
    "  visited = set()\n",
    "  parent = None\n",
    "  stack.append(((row, col), parent))\n",
    "\n",
    "  while(stack):\n",
    "    current, parent = stack.pop()\n",
    "    if (current in visited): continue\n",
    "    if (maze[current[0]][current[1]][4] == 2):\n",
    "      open_door(maze, current, came_from(current, parent))\n",
    "      return True\n",
    "\n",
    "    visited.add(current)\n",
    "    neighbors = get_neighbors(maze, current)\n",
    "    for neighbor in neighbors: \n",
    "      if (maze[neighbor[0]][neighbor[1]][4] != 0): \n",
    "        stack.append((neighbor, current))\n",
    "  return False"
   ]
  },
  {
   "source": [
    "#### Junção de paredes randômicas"
   ],
   "cell_type": "markdown",
   "metadata": {}
  },
  {
   "cell_type": "code",
   "execution_count": null,
   "metadata": {},
   "outputs": [],
   "source": [
    "#get a random cell reachable from the start, inclusive\n",
    "def random_cell(maze, start, except_=[]):\n",
    "  stack = []\n",
    "  visited = set()\n",
    "  parent = None\n",
    "  stack.append((start, parent))\n",
    "\n",
    "  while(stack):\n",
    "    current, parent = stack.pop()\n",
    "    if (current in visited): continue\n",
    "    visited.add(current)\n",
    "    neighbors = get_neighbors(maze, current)\n",
    "    for neighbor in neighbors: \n",
    "      if (maze[neighbor[0]][neighbor[1]][4] == 1): \n",
    "        stack.append((neighbor, current))\n",
    "\n",
    "  [visited.remove(node) for node in except_ if node in visited]\n",
    "  return choice(list(visited)) if visited else False\n",
    "\n",
    "#get a valid random door\n",
    "#cell e neighbors podem não ter uma porta entre si\n",
    "def random_door(maze, cell):\n",
    "  neighbors = get_neighbors(maze, cell)\n",
    "  neighbor_cell = choice(neighbors)\n",
    "  neighbors.remove(neighbor_cell)\n",
    "  while(neighbors and maze[neighbor_cell[0]][neighbor_cell[1]][4]):\n",
    "    neighbor_cell = choice(neighbors)\n",
    "    neighbors.remove(neighbor_cell)\n",
    "  \n",
    "  return neighbor_cell if not maze[neighbor_cell[0]][neighbor_cell[1]][4] else False\n",
    "\n",
    "\n",
    "def open_random_door(maze, start):\n",
    "  cell = random_cell(maze, start)\n",
    "  door = random_door(maze, cell)\n",
    "  tried = [] #list of cells that there are not doors to open\n",
    "  \n",
    "  while(not door and cell):\n",
    "    cell = random_cell(maze, start, tried)\n",
    "    door = random_door(maze, cell)\n",
    "  if (not cell): print(\"fully opened\")\n",
    "  else: \n",
    "    open_door(maze, cell, step_to_text(text_to_step(came_from(cell, door))))\n"
   ]
  },
  {
   "source": [
    "#### Verifica e torna o labirinto viável"
   ],
   "cell_type": "markdown",
   "metadata": {}
  },
  {
   "cell_type": "code",
   "execution_count": null,
   "metadata": {},
   "outputs": [],
   "source": [
    "def valid_maze(maze, maze_size, finish):\n",
    "  return maze[finish][maze_size-1][4] == 1\n",
    "\n",
    "def make_maze_viable(maze, start, finish):\n",
    "  maze_size = len(maze)\n",
    "  flood_fill(maze, start, 0, 1)\n",
    "\n",
    "  if (not valid_maze(maze, maze_size, finish)): \n",
    "    flood_fill(maze, finish, maze_size-1, 2)\n",
    "\n",
    "    while(not valid_maze(maze, maze_size, finish) ):\n",
    "\n",
    "      merged = merge_adjacent(maze, start, 0)\n",
    "      if (merged):\n",
    "        flood_fill(maze, start, 0, 0)\n",
    "        flood_fill(maze, start, 0, 1)\n",
    "      else:\n",
    "        open_random_door(maze, (start, 0))\n",
    "        flood_fill(maze,start, 0, 0)\n",
    "        flood_fill(maze, start, 0, 1)"
   ]
  },
  {
   "source": [
    "# Algoritmo genético"
   ],
   "cell_type": "markdown",
   "metadata": {}
  },
  {
   "source": [
    "# Execução do algoritmo genético em um labirinto 10x10"
   ],
   "cell_type": "markdown",
   "metadata": {}
  },
  {
   "source": [
    "# Gráfico com evolução do algoritmo genético (gerações x fitness)"
   ],
   "cell_type": "markdown",
   "metadata": {}
  },
  {
   "source": [
    "# Figura do labirinto e melhor solução encontrada"
   ],
   "cell_type": "markdown",
   "metadata": {}
  },
  {
   "source": [
    "# Variação dos parâmetros do algoritmo genético"
   ],
   "cell_type": "markdown",
   "metadata": {}
  },
  {
   "source": [
    "Para efeitos de comparação das variações de parâmetros do algoritmo genético, reiniciaremos a seed utilzada para gerarmos os mesmos labirintos para os diferentes parâmetros."
   ],
   "cell_type": "markdown",
   "metadata": {}
  },
  {
   "source": [
    "Parâmetros base\n",
    "\n",
    "---\n",
    "Taxa de crossover == **0.8**\n",
    "\n",
    "Taxa de mutação == **0.1**\n",
    "\n",
    "Tamanho da população == **100**\n",
    "\n",
    "Geração máxima para parada == **500**\n",
    "\n",
    "Esses parâmetros foram obtidos através do artigo e foram utilizados nas seções anteriores.\n",
    "\n",
    "Para termos uma média de gerações de convergência do AG, rodamos o algoritmo randômicamente por 50 vezes. "
   ],
   "cell_type": "markdown",
   "metadata": {}
  },
  {
   "cell_type": "code",
   "execution_count": null,
   "metadata": {},
   "outputs": [],
   "source": [
    "random.seed(SEED)"
   ]
  },
  {
   "cell_type": "code",
   "execution_count": null,
   "metadata": {},
   "outputs": [],
   "source": [
    "generation_list = []\n",
    "for i in range(50):\n",
    "  _, generation, _, _, _, _ = run(maze_size=10, population_size=100, crossover_rate=0.8, mutation_rate= 0.1, max_generation=500,n_generation_growth= 5)\n",
    "  generation_list.append(generation)\n",
    "\n",
    "print(\"Média de gerações para convergência do Algoritmo Genético: \", np.mean(np.array(generation_list)))"
   ]
  },
  {
   "source": [
    "Parâmetros variados\n",
    "\n",
    "----\n",
    "\n",
    "Taxa de crossover == ~0.8~ => **0.6**\n",
    "\n",
    "Taxa de mutação == ~0.1~ => **0.3**\n",
    "\n",
    "Tamanho da população == ~100~ => **80**\n",
    "\n",
    "Geração máxima para parada == ~500~ => **1500**\n",
    "\n",
    "Seguindo a lógica acima, rodamos o algoritmo com os parâmetros variados mais 50 vezes. "
   ],
   "cell_type": "markdown",
   "metadata": {}
  },
  {
   "cell_type": "code",
   "execution_count": null,
   "metadata": {},
   "outputs": [],
   "source": [
    "random.seed(SEED)"
   ]
  },
  {
   "cell_type": "code",
   "execution_count": null,
   "metadata": {},
   "outputs": [],
   "source": [
    "generation_list = []\n",
    "for i in range(50):\n",
    "  chromosome, generation, fitness_values, maze, _, _ = run(maze_size=10, population_size=80, crossover_rate=0.6, mutation_rate= 0.3, max_generation=1500,n_generation_growth= 5)\n",
    "  generation_list.append(generation)\n",
    "\n",
    "print(\"Média de gerações para convergência do Algoritmo Genético: \", np.mean(np.array(generation_list)))"
   ]
  },
  {
   "source": [
    "Aparentemente, a média de gerações para a convergência do Algoritmo Genético com os parâmetros variados tendeu a diminuir.\n",
    "\n",
    "O gráfico a seguir é referente à ultima execução do algoritmo.\n",
    "\n"
   ],
   "cell_type": "markdown",
   "metadata": {}
  },
  {
   "cell_type": "code",
   "execution_count": null,
   "metadata": {},
   "outputs": [],
   "source": [
    "show_graph(generation, fitness_values)"
   ]
  },
  {
   "source": [
    "#### Utilizando outra função de fitness (Distância de Manhattan)"
   ],
   "cell_type": "markdown",
   "metadata": {}
  },
  {
   "source": [
    "No exemplo a seguir utilizaremos a função fitness com Distância de Manhattan ao invés da Distância Euclideana."
   ],
   "cell_type": "markdown",
   "metadata": {}
  },
  {
   "cell_type": "code",
   "execution_count": null,
   "metadata": {},
   "outputs": [],
   "source": [
    "random.seed(SEED)"
   ]
  },
  {
   "cell_type": "code",
   "execution_count": null,
   "metadata": {},
   "outputs": [],
   "source": [
    "generation_list = []\n",
    "for i in range(50):\n",
    "  chromosome, generation, fitness_values, maze, _, _ = run(maze_size=10, population_size=100, crossover_rate=0.8, mutation_rate= 0.1, max_generation=500,n_generation_growth= 5, fitness_function= \"MANHATTAN\")\n",
    "  generation_list.append(generation)\n",
    "\n",
    "print(\"Média de gerações para convergência do Algoritmo Genético: \", np.mean(np.array(generation_list)))"
   ]
  },
  {
   "source": [
    "Ao alterar a função fitness para utilizar a Distância de Manhattan, notamos uma piora na convergência do algoritmo genético com os mesmos parâmetros base (artigo).\n",
    "\n",
    "O gráfico a seguir é referente à ultima execução do algoritmo."
   ],
   "cell_type": "markdown",
   "metadata": {}
  },
  {
   "cell_type": "code",
   "execution_count": null,
   "metadata": {},
   "outputs": [],
   "source": [
    "show_graph(generation, fitness_values)"
   ]
  },
  {
   "source": [
    "\n",
    "#### Efeito da variação dos parâmetros na velocidade de convergência da solução\n"
   ],
   "cell_type": "markdown",
   "metadata": {}
  },
  {
   "source": [
    "O algoritmo genético com a variação dos parâmetros e função fitness de Distância Euclidiana convergiu mais rapidamente que o algoritmo com os parâmetros base.\n",
    "\n",
    "Enquanto o AG com os parâmetros base (artigo) e Distância Euclidiana como função fitness encontrou a solução em uma média de **50.74** gerações, o AG com parâmetros variados sugeridos por todos os integrantes do grupo convergiu em uma média de **45.50** gerações.\n",
    "\n",
    "Em uma variação da função fitness para utilizar a Distância de Manhattan, o AG convergiu em uma média de **65.5** gerações.\n",
    "\n"
   ],
   "cell_type": "markdown",
   "metadata": {}
  }
 ]
}